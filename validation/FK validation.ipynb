{
 "cells": [
  {
   "cell_type": "code",
   "execution_count": 2,
   "id": "fd994353-43fa-4d88-9651-0edd9b8748c2",
   "metadata": {},
   "outputs": [],
   "source": [
    "import sympy as sp\n",
    "from sympy import *\n",
    "import math as mt\n",
    "\n",
    "## define the function to find the transformation matrix\n",
    "def tran(a,alpha,d,theta):\n",
    "\n",
    "    ## rot@z*trans@z*trans@x*rot@z\n",
    "    A = sp.Matrix([[sp.cos(theta), -sp.sin(theta), 0, 0 ], [sp.sin(theta), sp.cos(theta), 0, 0 ], [0 , 0, 1, 0], [0, 0, 0, 1]])@sp.Matrix([[1, 0, 0, 0], [0, 1, 0, 0], [0, 0, 1, d],[0, 0, 0, 1]])@sp.Matrix([[1, 0, 0, a],[0, 1, 0, 0],[0, 0, 1, 0],[0, 0, 0, 1]])@sp.Matrix([[1, 0, 0, 0], [0, sp.cos(alpha), -sp.sin(alpha), 0], [0, sp.sin(alpha), sp.cos(alpha), 0],[ 0, 0, 0, 1]])\n",
    "    return A\n",
    "\n",
    "##define the final transformation matrix\n",
    "\n",
    "def finalTransformation(t1, t2, t3, t4, t5, t6):\n",
    "    \n",
    "    ##transformation of frame 1 to 6 by passing DH parameter to tran function\n",
    "    A1 = tran(0,-sp.pi/2,26,t1)\n",
    "    A2 = tran(102.5,0,29,-sp.pi/2+t2)\n",
    "    A3 = tran(0,sp.pi/2,-17.5,sp.pi/2+t3)\n",
    "    A4 = tran(0,sp.pi/2,142.49,sp.pi/2+t4)\n",
    "    A5 = tran(0,-sp.pi/2,0,t5)\n",
    "    A6 = tran(0,0,0,t6)\n",
    "    # A7 = tran(0,0,105.5,t7)\n",
    "    A = A1@A2@A3@A4@A5@A6\n",
    "    return A\n"
   ]
  },
  {
   "cell_type": "code",
   "execution_count": 3,
   "id": "51f354c9",
   "metadata": {},
   "outputs": [
    {
     "name": "stdout",
     "output_type": "stream",
     "text": [
      "⎡0  -1  0    0   ⎤\n",
      "⎢                ⎥\n",
      "⎢1  0   0   11.5 ⎥\n",
      "⎢                ⎥\n",
      "⎢0  0   1  270.99⎥\n",
      "⎢                ⎥\n",
      "⎣0  0   0    1   ⎦\n"
     ]
    }
   ],
   "source": [
    "## first validation : (t1, t2, t3 , t4, t5, t6,) = (0, 0, 0, 0, 0, 0)\n",
    "\n",
    "a = finalTransformation(0,0,0,0,0,0)\n",
    "sp.pprint(a)"
   ]
  },
  {
   "cell_type": "code",
   "execution_count": 4,
   "id": "8069348c",
   "metadata": {},
   "outputs": [
    {
     "name": "stdout",
     "output_type": "stream",
     "text": [
      "⎡0  -6.12323399573677e-17          1.0           244.99⎤\n",
      "⎢                                                      ⎥\n",
      "⎢1            0                     0             11.5 ⎥\n",
      "⎢                                                      ⎥\n",
      "⎢0           1.0           6.12323399573677e-17   26.0 ⎥\n",
      "⎢                                                      ⎥\n",
      "⎣0            0                     0              1   ⎦\n"
     ]
    }
   ],
   "source": [
    "## second validation : (t1, t2, t3 , t4, t5, t6,) = (0, pi/2, 0, 0, 0, 0)\n",
    "\n",
    "b = finalTransformation(0,mt.pi/2,0,0,0,0)\n",
    "sp.pprint(b)"
   ]
  },
  {
   "cell_type": "code",
   "execution_count": 5,
   "id": "2f55bcfb",
   "metadata": {},
   "outputs": [
    {
     "name": "stdout",
     "output_type": "stream",
     "text": [
      "⎡0  -6.12323399573677e-17          1.0           142.49⎤\n",
      "⎢                                                      ⎥\n",
      "⎢1            0                     0             11.5 ⎥\n",
      "⎢                                                      ⎥\n",
      "⎢0           1.0           6.12323399573677e-17  128.5 ⎥\n",
      "⎢                                                      ⎥\n",
      "⎣0            0                     0              1   ⎦\n"
     ]
    }
   ],
   "source": [
    "## third validation : (t1, t2, t3 , t4, t5, t6,) = (0, 0, pi/2, 0, 0, 0)\n",
    "\n",
    "c = finalTransformation(0,0,mt.pi/2,0,0,0)\n",
    "sp.pprint(c)"
   ]
  },
  {
   "cell_type": "code",
   "execution_count": 6,
   "id": "db8c8463",
   "metadata": {},
   "outputs": [
    {
     "name": "stdout",
     "output_type": "stream",
     "text": [
      "⎡        -1.0          -6.12323399573677e-17  0    0   ⎤\n",
      "⎢                                                      ⎥\n",
      "⎢6.12323399573677e-17          -1.0           0   11.5 ⎥\n",
      "⎢                                                      ⎥\n",
      "⎢         0                      0            1  270.99⎥\n",
      "⎢                                                      ⎥\n",
      "⎣         0                      0            0    1   ⎦\n"
     ]
    }
   ],
   "source": [
    "## forth validation : (t1, t2, t3 , t4, t5, t6,) = (0, 0, 0, pi/2, 0, 0)\n",
    "\n",
    "d = finalTransformation(0,0,0,mt.pi/2,0,0)\n",
    "sp.pprint(d)"
   ]
  },
  {
   "cell_type": "code",
   "execution_count": 8,
   "id": "dfc533fc",
   "metadata": {},
   "outputs": [
    {
     "name": "stdout",
     "output_type": "stream",
     "text": [
      "⎡        -1.0          -6.12323399573677e-17  0         -11.5        ⎤\n",
      "⎢                                                                    ⎥\n",
      "⎢6.12323399573677e-17          -1.0           0  7.04171909509728e-16⎥\n",
      "⎢                                                                    ⎥\n",
      "⎢         0                      0            1         270.99       ⎥\n",
      "⎢                                                                    ⎥\n",
      "⎣         0                      0            0           1          ⎦\n"
     ]
    }
   ],
   "source": [
    "## fifth validation : (t1, t2, t3 , t4, t5, t6,) = (pi/2, 0, 0, 0, 0, 0)\n",
    "\n",
    "d = finalTransformation(mt.pi/2,0,0,0,0,0)\n",
    "sp.pprint(d)"
   ]
  },
  {
   "cell_type": "code",
   "execution_count": null,
   "id": "46636286",
   "metadata": {},
   "outputs": [],
   "source": []
  }
 ],
 "metadata": {
  "kernelspec": {
   "display_name": "Python 3 (ipykernel)",
   "language": "python",
   "name": "python3"
  },
  "language_info": {
   "codemirror_mode": {
    "name": "ipython",
    "version": 3
   },
   "file_extension": ".py",
   "mimetype": "text/x-python",
   "name": "python",
   "nbconvert_exporter": "python",
   "pygments_lexer": "ipython3",
   "version": "3.10.1"
  }
 },
 "nbformat": 4,
 "nbformat_minor": 5
}
